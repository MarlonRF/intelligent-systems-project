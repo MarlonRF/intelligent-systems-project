{
  "cells": [
    {
      "cell_type": "markdown",
      "metadata": {
        "id": "saLj-JN_x-4m"
      },
      "source": [
        "### Curso de Verão 2022 - Desenvolvimento de Sistemas Computacionais Inteligentes - EaD\n",
        "\n",
        "# Projeto Parte 1 - Pipeline de Treinamento\n",
        "\n",
        "#### Marlon Resende Faria (marlonresendefaria@gmail.com)\n",
        "#### João Paulo Fumes Beneton (beneton@usp.br)"
      ]
    },
    {
      "cell_type": "code",
      "execution_count": 3,
      "metadata": {
        "id": "g4yVS2A2qUZo"
      },
      "outputs": [],
      "source": [
        "# Bibliotecas\n",
        "\n",
        "import pandas as pd\n",
        "import matplotlib.pyplot as plt\n",
        "import numpy as np\n",
        "from sklearn.model_selection import train_test_split\n",
        "from sklearn.feature_extraction.text import CountVectorizer\n",
        "from sklearn.feature_extraction.text import TfidfTransformer\n",
        "from sklearn.naive_bayes import MultinomialNB\n",
        "from sklearn.pipeline import Pipeline\n",
        "from sklearn import svm\n",
        "import seaborn as sns\n",
        "import pickle\n",
        "import os"
      ]
    },
    {
      "cell_type": "markdown",
      "metadata": {
        "id": "LvXh_MO0qlOR"
      },
      "source": [
        "# Conjuntos de dados"
      ]
    },
    {
      "cell_type": "code",
      "execution_count": 5,
      "metadata": {
        "colab": {
          "base_uri": "https://localhost:8080/",
          "height": 479
        },
        "id": "xWy8Lklmqn4w",
        "outputId": "0400d73a-a7d8-494b-abdd-6ffca4792433"
      },
      "outputs": [
        {
          "data": {
            "text/html": [
              "\n",
              "  <div id=\"df-76838010-8911-4d2f-a7a8-7731048524b5\">\n",
              "    <div class=\"colab-df-container\">\n",
              "      <div>\n",
              "<style scoped>\n",
              "    .dataframe tbody tr th:only-of-type {\n",
              "        vertical-align: middle;\n",
              "    }\n",
              "\n",
              "    .dataframe tbody tr th {\n",
              "        vertical-align: top;\n",
              "    }\n",
              "\n",
              "    .dataframe thead th {\n",
              "        text-align: right;\n",
              "    }\n",
              "</style>\n",
              "<table border=\"1\" class=\"dataframe\">\n",
              "  <thead>\n",
              "    <tr style=\"text-align: right;\">\n",
              "      <th></th>\n",
              "      <th>product_id</th>\n",
              "      <th>seller_id</th>\n",
              "      <th>query</th>\n",
              "      <th>search_page</th>\n",
              "      <th>position</th>\n",
              "      <th>title</th>\n",
              "      <th>concatenated_tags</th>\n",
              "      <th>creation_date</th>\n",
              "      <th>price</th>\n",
              "      <th>weight</th>\n",
              "      <th>express_delivery</th>\n",
              "      <th>minimum_quantity</th>\n",
              "      <th>view_counts</th>\n",
              "      <th>order_counts</th>\n",
              "      <th>category</th>\n",
              "    </tr>\n",
              "  </thead>\n",
              "  <tbody>\n",
              "    <tr>\n",
              "      <th>0</th>\n",
              "      <td>11394449</td>\n",
              "      <td>8324141</td>\n",
              "      <td>espirito santo</td>\n",
              "      <td>2</td>\n",
              "      <td>6</td>\n",
              "      <td>Mandala Espírito Santo</td>\n",
              "      <td>mandala mdf</td>\n",
              "      <td>2015-11-14 19:42:12</td>\n",
              "      <td>171.890000</td>\n",
              "      <td>1200.0</td>\n",
              "      <td>1</td>\n",
              "      <td>4</td>\n",
              "      <td>244</td>\n",
              "      <td>NaN</td>\n",
              "      <td>Decoração</td>\n",
              "    </tr>\n",
              "    <tr>\n",
              "      <th>1</th>\n",
              "      <td>15534262</td>\n",
              "      <td>6939286</td>\n",
              "      <td>cartao de visita</td>\n",
              "      <td>2</td>\n",
              "      <td>0</td>\n",
              "      <td>Cartão de Visita</td>\n",
              "      <td>cartao visita panfletos tag adesivos copos lon...</td>\n",
              "      <td>2018-04-04 20:55:07</td>\n",
              "      <td>77.670000</td>\n",
              "      <td>8.0</td>\n",
              "      <td>1</td>\n",
              "      <td>5</td>\n",
              "      <td>124</td>\n",
              "      <td>NaN</td>\n",
              "      <td>Papel e Cia</td>\n",
              "    </tr>\n",
              "    <tr>\n",
              "      <th>2</th>\n",
              "      <td>16153119</td>\n",
              "      <td>9835835</td>\n",
              "      <td>expositor de esmaltes</td>\n",
              "      <td>1</td>\n",
              "      <td>38</td>\n",
              "      <td>Organizador expositor p/ 70 esmaltes</td>\n",
              "      <td>expositor</td>\n",
              "      <td>2018-10-13 20:57:07</td>\n",
              "      <td>73.920006</td>\n",
              "      <td>2709.0</td>\n",
              "      <td>1</td>\n",
              "      <td>1</td>\n",
              "      <td>59</td>\n",
              "      <td>NaN</td>\n",
              "      <td>Outros</td>\n",
              "    </tr>\n",
              "    <tr>\n",
              "      <th>3</th>\n",
              "      <td>15877252</td>\n",
              "      <td>8071206</td>\n",
              "      <td>medidas lencol para berco americano</td>\n",
              "      <td>1</td>\n",
              "      <td>6</td>\n",
              "      <td>Jogo de Lençol Berço Estampado</td>\n",
              "      <td>t jogo lencol menino lencol berco</td>\n",
              "      <td>2017-02-27 13:26:03</td>\n",
              "      <td>118.770004</td>\n",
              "      <td>0.0</td>\n",
              "      <td>1</td>\n",
              "      <td>1</td>\n",
              "      <td>180</td>\n",
              "      <td>1.0</td>\n",
              "      <td>Bebê</td>\n",
              "    </tr>\n",
              "    <tr>\n",
              "      <th>4</th>\n",
              "      <td>15917108</td>\n",
              "      <td>7200773</td>\n",
              "      <td>adesivo box banheiro</td>\n",
              "      <td>3</td>\n",
              "      <td>38</td>\n",
              "      <td>ADESIVO BOX DE BANHEIRO</td>\n",
              "      <td>adesivo box banheiro</td>\n",
              "      <td>2017-05-09 13:18:38</td>\n",
              "      <td>191.810000</td>\n",
              "      <td>507.0</td>\n",
              "      <td>1</td>\n",
              "      <td>6</td>\n",
              "      <td>34</td>\n",
              "      <td>NaN</td>\n",
              "      <td>Decoração</td>\n",
              "    </tr>\n",
              "  </tbody>\n",
              "</table>\n",
              "</div>\n",
              "      <button class=\"colab-df-convert\" onclick=\"convertToInteractive('df-76838010-8911-4d2f-a7a8-7731048524b5')\"\n",
              "              title=\"Convert this dataframe to an interactive table.\"\n",
              "              style=\"display:none;\">\n",
              "        \n",
              "  <svg xmlns=\"http://www.w3.org/2000/svg\" height=\"24px\"viewBox=\"0 0 24 24\"\n",
              "       width=\"24px\">\n",
              "    <path d=\"M0 0h24v24H0V0z\" fill=\"none\"/>\n",
              "    <path d=\"M18.56 5.44l.94 2.06.94-2.06 2.06-.94-2.06-.94-.94-2.06-.94 2.06-2.06.94zm-11 1L8.5 8.5l.94-2.06 2.06-.94-2.06-.94L8.5 2.5l-.94 2.06-2.06.94zm10 10l.94 2.06.94-2.06 2.06-.94-2.06-.94-.94-2.06-.94 2.06-2.06.94z\"/><path d=\"M17.41 7.96l-1.37-1.37c-.4-.4-.92-.59-1.43-.59-.52 0-1.04.2-1.43.59L10.3 9.45l-7.72 7.72c-.78.78-.78 2.05 0 2.83L4 21.41c.39.39.9.59 1.41.59.51 0 1.02-.2 1.41-.59l7.78-7.78 2.81-2.81c.8-.78.8-2.07 0-2.86zM5.41 20L4 18.59l7.72-7.72 1.47 1.35L5.41 20z\"/>\n",
              "  </svg>\n",
              "      </button>\n",
              "      \n",
              "  <style>\n",
              "    .colab-df-container {\n",
              "      display:flex;\n",
              "      flex-wrap:wrap;\n",
              "      gap: 12px;\n",
              "    }\n",
              "\n",
              "    .colab-df-convert {\n",
              "      background-color: #E8F0FE;\n",
              "      border: none;\n",
              "      border-radius: 50%;\n",
              "      cursor: pointer;\n",
              "      display: none;\n",
              "      fill: #1967D2;\n",
              "      height: 32px;\n",
              "      padding: 0 0 0 0;\n",
              "      width: 32px;\n",
              "    }\n",
              "\n",
              "    .colab-df-convert:hover {\n",
              "      background-color: #E2EBFA;\n",
              "      box-shadow: 0px 1px 2px rgba(60, 64, 67, 0.3), 0px 1px 3px 1px rgba(60, 64, 67, 0.15);\n",
              "      fill: #174EA6;\n",
              "    }\n",
              "\n",
              "    [theme=dark] .colab-df-convert {\n",
              "      background-color: #3B4455;\n",
              "      fill: #D2E3FC;\n",
              "    }\n",
              "\n",
              "    [theme=dark] .colab-df-convert:hover {\n",
              "      background-color: #434B5C;\n",
              "      box-shadow: 0px 1px 3px 1px rgba(0, 0, 0, 0.15);\n",
              "      filter: drop-shadow(0px 1px 2px rgba(0, 0, 0, 0.3));\n",
              "      fill: #FFFFFF;\n",
              "    }\n",
              "  </style>\n",
              "\n",
              "      <script>\n",
              "        const buttonEl =\n",
              "          document.querySelector('#df-76838010-8911-4d2f-a7a8-7731048524b5 button.colab-df-convert');\n",
              "        buttonEl.style.display =\n",
              "          google.colab.kernel.accessAllowed ? 'block' : 'none';\n",
              "\n",
              "        async function convertToInteractive(key) {\n",
              "          const element = document.querySelector('#df-76838010-8911-4d2f-a7a8-7731048524b5');\n",
              "          const dataTable =\n",
              "            await google.colab.kernel.invokeFunction('convertToInteractive',\n",
              "                                                     [key], {});\n",
              "          if (!dataTable) return;\n",
              "\n",
              "          const docLinkHtml = 'Like what you see? Visit the ' +\n",
              "            '<a target=\"_blank\" href=https://colab.research.google.com/notebooks/data_table.ipynb>data table notebook</a>'\n",
              "            + ' to learn more about interactive tables.';\n",
              "          element.innerHTML = '';\n",
              "          dataTable['output_type'] = 'display_data';\n",
              "          await google.colab.output.renderOutput(dataTable, element);\n",
              "          const docLink = document.createElement('div');\n",
              "          docLink.innerHTML = docLinkHtml;\n",
              "          element.appendChild(docLink);\n",
              "        }\n",
              "      </script>\n",
              "    </div>\n",
              "  </div>\n",
              "  "
            ],
            "text/plain": [
              "   product_id  seller_id  ... order_counts     category\n",
              "0    11394449    8324141  ...          NaN    Decoração\n",
              "1    15534262    6939286  ...          NaN  Papel e Cia\n",
              "2    16153119    9835835  ...          NaN       Outros\n",
              "3    15877252    8071206  ...          1.0         Bebê\n",
              "4    15917108    7200773  ...          NaN    Decoração\n",
              "\n",
              "[5 rows x 15 columns]"
            ]
          },
          "execution_count": 5,
          "metadata": {},
          "output_type": "execute_result"
        }
      ],
      "source": [
        "# recupera o caminho dos arquivos de dados, modelo e métricas do environment\n",
        "DATASET_PATH =  os.environ['DATASET_PATH']\n",
        "MODEL_PATH =  os.environ['MODEL_PATH']\n",
        "METRICS_PATH =  os.environ['METRICS_PATH']"
      ]
    },
    {
      "cell_type": "code",
      "execution_count": 6,
      "metadata": {
        "colab": {
          "base_uri": "https://localhost:8080/"
        },
        "id": "n2O_EIJ6q3WW",
        "outputId": "35fa6e24-49e5-456a-e2ec-b7bc034d95a0"
      },
      "outputs": [
        {
          "name": "stdout",
          "output_type": "stream",
          "text": [
            "<class 'pandas.core.frame.DataFrame'>\n",
            "RangeIndex: 38000 entries, 0 to 37999\n",
            "Data columns (total 15 columns):\n",
            " #   Column             Non-Null Count  Dtype  \n",
            "---  ------             --------------  -----  \n",
            " 0   product_id         38000 non-null  int64  \n",
            " 1   seller_id          38000 non-null  int64  \n",
            " 2   query              38000 non-null  object \n",
            " 3   search_page        38000 non-null  int64  \n",
            " 4   position           38000 non-null  int64  \n",
            " 5   title              38000 non-null  object \n",
            " 6   concatenated_tags  37998 non-null  object \n",
            " 7   creation_date      38000 non-null  object \n",
            " 8   price              38000 non-null  float64\n",
            " 9   weight             37942 non-null  float64\n",
            " 10  express_delivery   38000 non-null  int64  \n",
            " 11  minimum_quantity   38000 non-null  int64  \n",
            " 12  view_counts        38000 non-null  int64  \n",
            " 13  order_counts       17895 non-null  float64\n",
            " 14  category           38000 non-null  object \n",
            "dtypes: float64(3), int64(7), object(5)\n",
            "memory usage: 4.3+ MB\n"
          ]
        }
      ],
      "source": [
        "# fazemos uma cópia do conjunto de dados para trabalhar\n",
        "dados = pd.read_csv(DATASET_PATH)\n",
        "df = dados.copy()\n",
        "# Exibe as variavéis do conjunto de dados\n",
        "df.info()"
      ]
    },
    {
      "cell_type": "code",
      "execution_count": null,
      "metadata": {},
      "outputs": [],
      "source": [
        "df.head() # Exibe as 5 primeiras observações do conjunto de dados"
      ]
    },
    {
      "cell_type": "markdown",
      "metadata": {
        "id": "IvLVbJZ3qxey"
      },
      "source": [
        "# Análise Exploratória do Conjunto de dados"
      ]
    },
    {
      "cell_type": "markdown",
      "metadata": {
        "id": "1szvWX_EmwfS"
      },
      "source": [
        "Na célula abaixo, executamos uma breve análise exploratória de dados. \n",
        "\n",
        "Verificamos pelo gráfico de barras abaixo o balanceamento entre as categorias. Nota-se que a categoria \"Lembrancinhas\" tem muito mais observações, seguida de \n",
        "\"Decoração\", \"Bebê\", \"Papel e Cia\" e \"Bijouterias\".\n",
        "\n",
        "As observações que não se encaixam em nenhuma das citadas devem estar agrupadas na categoria \"Outros\". \n",
        "\n",
        "Analisou-se, também, que as variáveis numéricas apresentam correlação pouco expressiva com a categoria (variável). Diante disso, optamos por não utilizar dessas \"features\" númericas. Uma investigação mais profunda é necessária \n",
        "\n",
        "\n",
        "Sendo assim, optou-se por criar um modelo simplificado, que utlizasse apenas categorias e os títulos."
      ]
    },
    {
      "cell_type": "code",
      "execution_count": null,
      "metadata": {
        "colab": {
          "base_uri": "https://localhost:8080/",
          "height": 517
        },
        "id": "KRyyHiEXrNgt",
        "outputId": "40d692a2-38e8-44db-8185-7282efaf0348"
      },
      "outputs": [
        {
          "data": {
            "image/png": "[encoded data removed]",
            "text/plain": [
              "<Figure size 842.4x595.44 with 1 Axes>"
            ]
          },
          "metadata": {},
          "output_type": "display_data"
        }
      ],
      "source": [
        "import seaborn as sns\n",
        "sns.set(rc={'figure.figsize':(11.7,8.27)})\n",
        "figure = sns.countplot(x=df.category)"
      ]
    },
    {
      "cell_type": "code",
      "execution_count": 7,
      "metadata": {
        "colab": {
          "base_uri": "https://localhost:8080/",
          "height": 394
        },
        "id": "RDV5bUOfGW3S",
        "outputId": "94bd55a4-d26a-46f3-f582-7bd969661a82"
      },
      "outputs": [
        {
          "data": {
            "text/html": [
              "\n",
              "  <div id=\"df-5d84ead0-7af9-42b5-a80b-0698fc26974b\">\n",
              "    <div class=\"colab-df-container\">\n",
              "      <div>\n",
              "<style scoped>\n",
              "    .dataframe tbody tr th:only-of-type {\n",
              "        vertical-align: middle;\n",
              "    }\n",
              "\n",
              "    .dataframe tbody tr th {\n",
              "        vertical-align: top;\n",
              "    }\n",
              "\n",
              "    .dataframe thead th {\n",
              "        text-align: right;\n",
              "    }\n",
              "</style>\n",
              "<table border=\"1\" class=\"dataframe\">\n",
              "  <thead>\n",
              "    <tr style=\"text-align: right;\">\n",
              "      <th></th>\n",
              "      <th>product_id</th>\n",
              "      <th>seller_id</th>\n",
              "      <th>search_page</th>\n",
              "      <th>position</th>\n",
              "      <th>price</th>\n",
              "      <th>weight</th>\n",
              "      <th>express_delivery</th>\n",
              "      <th>minimum_quantity</th>\n",
              "      <th>view_counts</th>\n",
              "      <th>order_counts</th>\n",
              "      <th>Bijuterias</th>\n",
              "    </tr>\n",
              "  </thead>\n",
              "  <tbody>\n",
              "    <tr>\n",
              "      <th>product_id</th>\n",
              "      <td>1.000000</td>\n",
              "      <td>-0.009154</td>\n",
              "      <td>0.001496</td>\n",
              "      <td>0.001491</td>\n",
              "      <td>0.008519</td>\n",
              "      <td>0.000384</td>\n",
              "      <td>-0.008746</td>\n",
              "      <td>-0.005836</td>\n",
              "      <td>0.010446</td>\n",
              "      <td>0.011257</td>\n",
              "      <td>0.004581</td>\n",
              "    </tr>\n",
              "    <tr>\n",
              "      <th>seller_id</th>\n",
              "      <td>-0.009154</td>\n",
              "      <td>1.000000</td>\n",
              "      <td>-0.015809</td>\n",
              "      <td>-0.015057</td>\n",
              "      <td>0.009642</td>\n",
              "      <td>0.013518</td>\n",
              "      <td>-0.008498</td>\n",
              "      <td>0.009972</td>\n",
              "      <td>0.014686</td>\n",
              "      <td>0.008431</td>\n",
              "      <td>0.026396</td>\n",
              "    </tr>\n",
              "    <tr>\n",
              "      <th>search_page</th>\n",
              "      <td>0.001496</td>\n",
              "      <td>-0.015809</td>\n",
              "      <td>1.000000</td>\n",
              "      <td>0.056025</td>\n",
              "      <td>-0.003117</td>\n",
              "      <td>-0.021321</td>\n",
              "      <td>0.028977</td>\n",
              "      <td>0.022212</td>\n",
              "      <td>-0.024137</td>\n",
              "      <td>-0.010976</td>\n",
              "      <td>-0.028005</td>\n",
              "    </tr>\n",
              "    <tr>\n",
              "      <th>position</th>\n",
              "      <td>0.001491</td>\n",
              "      <td>-0.015057</td>\n",
              "      <td>0.056025</td>\n",
              "      <td>1.000000</td>\n",
              "      <td>-0.002733</td>\n",
              "      <td>-0.010474</td>\n",
              "      <td>-0.000635</td>\n",
              "      <td>0.005860</td>\n",
              "      <td>-0.063485</td>\n",
              "      <td>-0.049970</td>\n",
              "      <td>0.000451</td>\n",
              "    </tr>\n",
              "    <tr>\n",
              "      <th>price</th>\n",
              "      <td>0.008519</td>\n",
              "      <td>0.009642</td>\n",
              "      <td>-0.003117</td>\n",
              "      <td>-0.002733</td>\n",
              "      <td>1.000000</td>\n",
              "      <td>0.213749</td>\n",
              "      <td>-0.043075</td>\n",
              "      <td>-0.080053</td>\n",
              "      <td>-0.001754</td>\n",
              "      <td>-0.029391</td>\n",
              "      <td>0.086873</td>\n",
              "    </tr>\n",
              "    <tr>\n",
              "      <th>weight</th>\n",
              "      <td>0.000384</td>\n",
              "      <td>0.013518</td>\n",
              "      <td>-0.021321</td>\n",
              "      <td>-0.010474</td>\n",
              "      <td>0.213749</td>\n",
              "      <td>1.000000</td>\n",
              "      <td>-0.051436</td>\n",
              "      <td>-0.037468</td>\n",
              "      <td>0.013237</td>\n",
              "      <td>0.009948</td>\n",
              "      <td>-0.026346</td>\n",
              "    </tr>\n",
              "    <tr>\n",
              "      <th>express_delivery</th>\n",
              "      <td>-0.008746</td>\n",
              "      <td>-0.008498</td>\n",
              "      <td>0.028977</td>\n",
              "      <td>-0.000635</td>\n",
              "      <td>-0.043075</td>\n",
              "      <td>-0.051436</td>\n",
              "      <td>1.000000</td>\n",
              "      <td>0.085348</td>\n",
              "      <td>-0.020879</td>\n",
              "      <td>-0.033728</td>\n",
              "      <td>-0.142674</td>\n",
              "    </tr>\n",
              "    <tr>\n",
              "      <th>minimum_quantity</th>\n",
              "      <td>-0.005836</td>\n",
              "      <td>0.009972</td>\n",
              "      <td>0.022212</td>\n",
              "      <td>0.005860</td>\n",
              "      <td>-0.080053</td>\n",
              "      <td>-0.037468</td>\n",
              "      <td>0.085348</td>\n",
              "      <td>1.000000</td>\n",
              "      <td>0.030824</td>\n",
              "      <td>0.031857</td>\n",
              "      <td>-0.037131</td>\n",
              "    </tr>\n",
              "    <tr>\n",
              "      <th>view_counts</th>\n",
              "      <td>0.010446</td>\n",
              "      <td>0.014686</td>\n",
              "      <td>-0.024137</td>\n",
              "      <td>-0.063485</td>\n",
              "      <td>-0.001754</td>\n",
              "      <td>0.013237</td>\n",
              "      <td>-0.020879</td>\n",
              "      <td>0.030824</td>\n",
              "      <td>1.000000</td>\n",
              "      <td>0.639746</td>\n",
              "      <td>0.001339</td>\n",
              "    </tr>\n",
              "    <tr>\n",
              "      <th>order_counts</th>\n",
              "      <td>0.011257</td>\n",
              "      <td>0.008431</td>\n",
              "      <td>-0.010976</td>\n",
              "      <td>-0.049970</td>\n",
              "      <td>-0.029391</td>\n",
              "      <td>0.009948</td>\n",
              "      <td>-0.033728</td>\n",
              "      <td>0.031857</td>\n",
              "      <td>0.639746</td>\n",
              "      <td>1.000000</td>\n",
              "      <td>0.016677</td>\n",
              "    </tr>\n",
              "    <tr>\n",
              "      <th>Bijuterias</th>\n",
              "      <td>0.004581</td>\n",
              "      <td>0.026396</td>\n",
              "      <td>-0.028005</td>\n",
              "      <td>0.000451</td>\n",
              "      <td>0.086873</td>\n",
              "      <td>-0.026346</td>\n",
              "      <td>-0.142674</td>\n",
              "      <td>-0.037131</td>\n",
              "      <td>0.001339</td>\n",
              "      <td>0.016677</td>\n",
              "      <td>1.000000</td>\n",
              "    </tr>\n",
              "  </tbody>\n",
              "</table>\n",
              "</div>\n",
              "      <button class=\"colab-df-convert\" onclick=\"convertToInteractive('df-5d84ead0-7af9-42b5-a80b-0698fc26974b')\"\n",
              "              title=\"Convert this dataframe to an interactive table.\"\n",
              "              style=\"display:none;\">\n",
              "        \n",
              "  <svg xmlns=\"http://www.w3.org/2000/svg\" height=\"24px\"viewBox=\"0 0 24 24\"\n",
              "       width=\"24px\">\n",
              "    <path d=\"M0 0h24v24H0V0z\" fill=\"none\"/>\n",
              "    <path d=\"M18.56 5.44l.94 2.06.94-2.06 2.06-.94-2.06-.94-.94-2.06-.94 2.06-2.06.94zm-11 1L8.5 8.5l.94-2.06 2.06-.94-2.06-.94L8.5 2.5l-.94 2.06-2.06.94zm10 10l.94 2.06.94-2.06 2.06-.94-2.06-.94-.94-2.06-.94 2.06-2.06.94z\"/><path d=\"M17.41 7.96l-1.37-1.37c-.4-.4-.92-.59-1.43-.59-.52 0-1.04.2-1.43.59L10.3 9.45l-7.72 7.72c-.78.78-.78 2.05 0 2.83L4 21.41c.39.39.9.59 1.41.59.51 0 1.02-.2 1.41-.59l7.78-7.78 2.81-2.81c.8-.78.8-2.07 0-2.86zM5.41 20L4 18.59l7.72-7.72 1.47 1.35L5.41 20z\"/>\n",
              "  </svg>\n",
              "      </button>\n",
              "      \n",
              "  <style>\n",
              "    .colab-df-container {\n",
              "      display:flex;\n",
              "      flex-wrap:wrap;\n",
              "      gap: 12px;\n",
              "    }\n",
              "\n",
              "    .colab-df-convert {\n",
              "      background-color: #E8F0FE;\n",
              "      border: none;\n",
              "      border-radius: 50%;\n",
              "      cursor: pointer;\n",
              "      display: none;\n",
              "      fill: #1967D2;\n",
              "      height: 32px;\n",
              "      padding: 0 0 0 0;\n",
              "      width: 32px;\n",
              "    }\n",
              "\n",
              "    .colab-df-convert:hover {\n",
              "      background-color: #E2EBFA;\n",
              "      box-shadow: 0px 1px 2px rgba(60, 64, 67, 0.3), 0px 1px 3px 1px rgba(60, 64, 67, 0.15);\n",
              "      fill: #174EA6;\n",
              "    }\n",
              "\n",
              "    [theme=dark] .colab-df-convert {\n",
              "      background-color: #3B4455;\n",
              "      fill: #D2E3FC;\n",
              "    }\n",
              "\n",
              "    [theme=dark] .colab-df-convert:hover {\n",
              "      background-color: #434B5C;\n",
              "      box-shadow: 0px 1px 3px 1px rgba(0, 0, 0, 0.15);\n",
              "      filter: drop-shadow(0px 1px 2px rgba(0, 0, 0, 0.3));\n",
              "      fill: #FFFFFF;\n",
              "    }\n",
              "  </style>\n",
              "\n",
              "      <script>\n",
              "        const buttonEl =\n",
              "          document.querySelector('#df-5d84ead0-7af9-42b5-a80b-0698fc26974b button.colab-df-convert');\n",
              "        buttonEl.style.display =\n",
              "          google.colab.kernel.accessAllowed ? 'block' : 'none';\n",
              "\n",
              "        async function convertToInteractive(key) {\n",
              "          const element = document.querySelector('#df-5d84ead0-7af9-42b5-a80b-0698fc26974b');\n",
              "          const dataTable =\n",
              "            await google.colab.kernel.invokeFunction('convertToInteractive',\n",
              "                                                     [key], {});\n",
              "          if (!dataTable) return;\n",
              "\n",
              "          const docLinkHtml = 'Like what you see? Visit the ' +\n",
              "            '<a target=\"_blank\" href=https://colab.research.google.com/notebooks/data_table.ipynb>data table notebook</a>'\n",
              "            + ' to learn more about interactive tables.';\n",
              "          element.innerHTML = '';\n",
              "          dataTable['output_type'] = 'display_data';\n",
              "          await google.colab.output.renderOutput(dataTable, element);\n",
              "          const docLink = document.createElement('div');\n",
              "          docLink.innerHTML = docLinkHtml;\n",
              "          element.appendChild(docLink);\n",
              "        }\n",
              "      </script>\n",
              "    </div>\n",
              "  </div>\n",
              "  "
            ],
            "text/plain": [
              "                  product_id  seller_id  ...  order_counts  Bijuterias\n",
              "product_id          1.000000  -0.009154  ...      0.011257    0.004581\n",
              "seller_id          -0.009154   1.000000  ...      0.008431    0.026396\n",
              "search_page         0.001496  -0.015809  ...     -0.010976   -0.028005\n",
              "position            0.001491  -0.015057  ...     -0.049970    0.000451\n",
              "price               0.008519   0.009642  ...     -0.029391    0.086873\n",
              "weight              0.000384   0.013518  ...      0.009948   -0.026346\n",
              "express_delivery   -0.008746  -0.008498  ...     -0.033728   -0.142674\n",
              "minimum_quantity   -0.005836   0.009972  ...      0.031857   -0.037131\n",
              "view_counts         0.010446   0.014686  ...      0.639746    0.001339\n",
              "order_counts        0.011257   0.008431  ...      1.000000    0.016677\n",
              "Bijuterias          0.004581   0.026396  ...      0.016677    1.000000\n",
              "\n",
              "[11 rows x 11 columns]"
            ]
          },
          "execution_count": 7,
          "metadata": {},
          "output_type": "execute_result"
        }
      ],
      "source": [
        "# Correlaçõe\n",
        "decoracao = df.copy()\n",
        "decoracao['Decoração'] = np.where(decoracao.category == \"Decoração\",1, 0)\n",
        "decoracao.drop(['category'], axis=1, inplace = True)\n",
        "decoracao.corr(method ='pearson')\n",
        "papel = df.copy()\n",
        "papel['Papel'] = np.where(papel.category == \"Papel e Cia\",1, 0)\n",
        "papel.drop(['category'], axis=1, inplace = True)\n",
        "papel.corr(method ='pearson')\n",
        "outros = df.copy()\n",
        "outros['Outros'] = np.where(outros.category == \"Outros\",1, 0)\n",
        "outros.drop(['category'], axis=1, inplace = True)\n",
        "outros.corr(method ='pearson')\n",
        "bebe = df.copy()\n",
        "bebe['Bebê'] = np.where(bebe.category == \"Bebê\",1, 0)\n",
        "bebe.drop(['category'], axis=1, inplace = True)\n",
        "bebe.corr(method ='pearson')\n",
        "lembrancinhas = df.copy()\n",
        "lembrancinhas['Lembrancinhas'] = np.where(lembrancinhas.category == \"Lembrancinhas\",1, 0)\n",
        "lembrancinhas.drop(['category'], axis=1, inplace = True)\n",
        "lembrancinhas.corr(method ='pearson')\n",
        "bijuterias = df.copy()\n",
        "bijuterias['Bijuterias'] = np.where(bijuterias.category == \"Bijuterias e Jóias\",1, 0)\n",
        "bijuterias.drop(['category'], axis=1, inplace = True)\n",
        "bijuterias.corr(method ='pearson')"
      ]
    },
    {
      "cell_type": "markdown",
      "metadata": {
        "id": "k7aWPh8Yrp_z"
      },
      "source": [
        "# Classificador de Texto\n",
        "\n",
        "\n",
        "*   O Naive Bayes é adequado para classificação com características discretas (como, por exemplo, contagem de palavras para classificação de texto).\n",
        "\n",
        "\n"
      ]
    },
    {
      "cell_type": "code",
      "execution_count": 24,
      "metadata": {
        "id": "oUOaAHXjrpO_"
      },
      "outputs": [],
      "source": [
        "# definição das variáveis para o modelo e separação dos dados para treino e teste.\n",
        "x = df['title']\n",
        "\n",
        "\n",
        "df['código'] = pd.factorize(df['category'])[0]# converte as categorias, definidas em strings em números. Posteriormente\n",
        "y = df['código']\n",
        "\n",
        "x_train, x_test, y_train, y_test = train_test_split(x, y, test_size=0.2, random_state=0)"
      ]
    },
    {
      "cell_type": "code",
      "execution_count": 25,
      "metadata": {
        "id": "hoKTO06Ur0tk"
      },
      "outputs": [],
      "source": [
        "# O Naive Bayes é adequado para classificação com características discretas (como, por exemplo, contagem de palavras para classificação de texto).\n",
        "text_clf = Pipeline([('vetorizador', CountVectorizer(strip_accents='ascii',\n",
        "                              lowercase=True)),\n",
        "                     ('tfidf', TfidfTransformer()),\n",
        "                     ('clf', MultinomialNB())\n",
        "                     ])\n",
        "# modelo treinado\n",
        "text_clf = text_clf.fit(x_train, y_train)\n"
      ]
    },
    {
      "cell_type": "code",
      "execution_count": 26,
      "metadata": {
        "id": "N4Su0SFAurKS"
      },
      "outputs": [],
      "source": [
        "y_pred = text_clf.predict(x_test)"
      ]
    },
    {
      "cell_type": "code",
      "execution_count": 27,
      "metadata": {
        "colab": {
          "base_uri": "https://localhost:8080/"
        },
        "id": "NyKNFxLAtWbK",
        "outputId": "d21c9f90-555c-4e4d-aa6c-b9f23e8654f8"
      },
      "outputs": [
        {
          "name": "stdout",
          "output_type": "stream",
          "text": [
            "              precision    recall  f1-score   support\n",
            "\n",
            "           0       0.84      0.85      0.84      1729\n",
            "           1       0.93      0.41      0.57       563\n",
            "           2       1.00      0.16      0.27       229\n",
            "           3       0.88      0.80      0.84      1392\n",
            "           4       0.81      0.97      0.88      3477\n",
            "           5       0.99      0.65      0.78       210\n",
            "\n",
            "    accuracy                           0.83      7600\n",
            "   macro avg       0.91      0.64      0.70      7600\n",
            "weighted avg       0.85      0.83      0.82      7600\n",
            "\n",
            "[[1463    3    0   56  207    0]\n",
            " [  44  232    0   10  277    0]\n",
            " [  75    3   36   30   85    0]\n",
            " [  72    2    0 1111  207    0]\n",
            " [  53    9    0   48 3366    1]\n",
            " [  29    0    0   10   35  136]]\n"
          ]
        }
      ],
      "source": [
        "# Métricas\n",
        "# Criação de relatório de texto mostrando as principais métricas de classificação\n",
        "from sklearn.metrics import classification_report, confusion_matrix\n",
        "print(classification_report(y_test, y_pred))\n",
        "print(confusion_matrix(y_test, y_pred))"
      ]
    },
    {
      "cell_type": "code",
      "execution_count": null,
      "metadata": {},
      "outputs": [],
      "source": [
        "# armazena os resultados das métricas e salva em arquivo txt\n",
        "a = str(classification_report(y_test, y_pred))\n",
        "b = str(confusion_matrix(y_test, y_pred))\n",
        "\n",
        "# Remove o arquivo, caso já exista\n",
        "try:\n",
        "    os.remove(\"metricas.txt\")\n",
        "except OSError:\n",
        "    pass\n",
        "\n",
        "# salva o arquivo\n",
        "with open(\"metricas.txt\", \"w\") as text_file:\n",
        "    text_file.write(a+b)"
      ]
    },
    {
      "cell_type": "code",
      "execution_count": 28,
      "metadata": {
        "colab": {
          "base_uri": "https://localhost:8080/"
        },
        "id": "z5RH0DiO6v-C",
        "outputId": "5bb7d627-519f-439c-8f08-3f9276bf28d7"
      },
      "outputs": [
        {
          "data": {
            "text/plain": [
              "0.4160526315789474"
            ]
          },
          "execution_count": 28,
          "metadata": {},
          "output_type": "execute_result"
        }
      ],
      "source": [
        "# Cálculo do erro médio absoluto para avaliação do modelo\n",
        "from sklearn.metrics import mean_absolute_error\n",
        "mean_absolute_error(y_test, y_pred)"
      ]
    },
    {
      "cell_type": "code",
      "execution_count": 29,
      "metadata": {
        "colab": {
          "base_uri": "https://localhost:8080/"
        },
        "id": "dPC8MtPY65-D",
        "outputId": "e8e6e570-2378-45fc-ddd4-f7dbc85d7e7f"
      },
      "outputs": [
        {
          "data": {
            "text/plain": [
              "1.2776315789473685"
            ]
          },
          "execution_count": 29,
          "metadata": {},
          "output_type": "execute_result"
        }
      ],
      "source": [
        "# Cálculo do erro médio qudrático para avaliação do modelo\n",
        "from sklearn.metrics import mean_squared_error\n",
        "mean_squared_error(y_test, y_pred)"
      ]
    },
    {
      "cell_type": "code",
      "execution_count": 32,
      "metadata": {
        "colab": {
          "base_uri": "https://localhost:8080/"
        },
        "id": "dxs2g4ZY7C4T",
        "outputId": "1abdf119-6c2d-45e5-989e-87e71445e645"
      },
      "outputs": [
        {
          "data": {
            "text/plain": [
              "0.5470758957512281"
            ]
          },
          "execution_count": 32,
          "metadata": {},
          "output_type": "execute_result"
        }
      ],
      "source": [
        "# R-quadradodo modelo para avaliação do modelo\n",
        "from sklearn.metrics import r2_score\n",
        "r2_score(y_test, y_pred)"
      ]
    },
    {
      "cell_type": "markdown",
      "metadata": {
        "id": "Y47izrCRw56J"
      },
      "source": [
        "# Salvar modelo treinado"
      ]
    },
    {
      "cell_type": "code",
      "execution_count": 22,
      "metadata": {
        "id": "80pSjmVov_n5"
      },
      "outputs": [],
      "source": [
        "# Salva o modelo em arquivo pickle. Vale comentar é salvo todo pipeline, que processará e vetorizará os dados para serem análisados pelo modelo.\n",
        "\n",
        "# Remove o arquivo, caso já exista\n",
        "try:\n",
        "    os.remove(\"modelo_classificador_texto_MB.sav\")\n",
        "except OSError:\n",
        "    pass\n",
        "\n",
        "#salva o arquivo\n",
        "nome_arquivo = 'modelo_classificador_texto_MB.sav'\n",
        "pickle.dump(text_clf, open(nome_arquivo, 'wb'))"
      ]
    },
    {
      "cell_type": "markdown",
      "metadata": {
        "id": "hCrLE0RVw9C8"
      },
      "source": [
        "# Carregar modelo treinado salvo"
      ]
    },
    {
      "cell_type": "code",
      "execution_count": null,
      "metadata": {},
      "outputs": [],
      "source": [
        "modelo_carregado = pickle.load(open(nome_arquivo, 'rb'))\n",
        "result = modelo_carregado.score(x_test, y_test)\n",
        "result"
      ]
    },
    {
      "cell_type": "code",
      "execution_count": null,
      "metadata": {},
      "outputs": [],
      "source": [
        "# cria um dionário com as colunas código e category do dataframe. Usaremos para traduzir o resultado, que foi dado como número\n",
        "nomes_das_categorias = df.set_index('código').to_dict()['category']\n",
        "nomes_das_categorias"
      ]
    },
    {
      "cell_type": "markdown",
      "metadata": {},
      "source": [
        "# Utilizar o modelo\n",
        "\n",
        "Para usar o modelo, cria-se uma lista qualquer com descrição de objetos similares aos que constituem o conjunto. Tal lista é declarada como \"lista_de_teste\".\n",
        "Em seguida resgata-se os nomes das categorias que haviam sido convertidas em valores númericos.\n",
        "Finalmente, define-se um função cujos paramêtros são:\n",
        "- uma lista as novas observações para serem categorizadas,;\n",
        "- o modelo, previamente carregado\n",
        "- um dicionário para conversão das catégorias númericas em strings."
      ]
    },
    {
      "cell_type": "code",
      "execution_count": null,
      "metadata": {},
      "outputs": [],
      "source": [
        "# Lista com títulos espontanêamente criados\n",
        "lista_de_teste = ['CArrinho para bebe', 'fraudas para bebê','imãs de geladeira','Catena tinteiro',''] \n",
        "#\n",
        "# cria um dionário com as colunas código e category do dataframe. Usaremos para traduzir o resultado, que foi dado como número\n",
        "nomes_das_categorias = df.set_index('código').to_dict()['category']\n",
        "nomes_das_categorias\n",
        "\n",
        "def categorizar(lista,modelo,nomes_das_categorias):\n",
        "    \"\"\"\n",
        "        Parameters\n",
        "    ----------\n",
        "    list : list of strings\n",
        "\n",
        "    Pipeline : sklearn.pipeline.Pipeline\n",
        "      \n",
        "    dictionary : dictionary to translate categorys\n",
        "\n",
        "    Returns\n",
        "    -------\n",
        "    list\n",
        "    list of the predicted categorys\n",
        "    \"\"\"\n",
        "    previsto = modelo_carregado.predict(lista)\n",
        "    for i in range(len(lista)):\n",
        "        print(lista[i],': ',nomes_das_categorias[previsto[i]])"
      ]
    },
    {
      "cell_type": "code",
      "execution_count": null,
      "metadata": {},
      "outputs": [],
      "source": [
        "# Será que funfou? \n",
        "categorizar(lista_de_teste,modelo_carregado,nomes_das_categorias)"
      ]
    }
  ],
  "metadata": {
    "colab": {
      "name": "trainer.ipynb",
      "provenance": []
    },
    "kernelspec": {
      "display_name": "Python 3",
      "name": "python3"
    },
    "language_info": {
      "name": "python"
    }
  },
  "nbformat": 4,
  "nbformat_minor": 0
}
